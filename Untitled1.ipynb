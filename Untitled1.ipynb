{
  "nbformat": 4,
  "nbformat_minor": 0,
  "metadata": {
    "colab": {
      "name": "Untitled1.ipynb",
      "provenance": [],
      "authorship_tag": "ABX9TyOabxptBDwaUBHBtOaO4QC3",
      "include_colab_link": true
    },
    "kernelspec": {
      "name": "python3",
      "display_name": "Python 3"
    },
    "language_info": {
      "name": "python"
    }
  },
  "cells": [
    {
      "cell_type": "markdown",
      "metadata": {
        "id": "view-in-github",
        "colab_type": "text"
      },
      "source": [
        "<a href=\"https://colab.research.google.com/github/LeoAcosta07/Blue_T2B_Mod1/blob/main/Untitled1.ipynb\" target=\"_parent\"><img src=\"https://colab.research.google.com/assets/colab-badge.svg\" alt=\"Open In Colab\"/></a>"
      ]
    },
    {
      "cell_type": "markdown",
      "metadata": {
        "id": "4uR6uYvTrA6g"
      },
      "source": [
        "**Exercicio 1:** Faça um programa que leia três números inteiros, em seguida mostre o maior e o menor deles "
      ]
    },
    {
      "cell_type": "markdown",
      "metadata": {
        "id": "KjGx__wSqeeE"
      },
      "source": [
        ""
      ]
    },
    {
      "cell_type": "code",
      "metadata": {
        "colab": {
          "base_uri": "https://localhost:8080/"
        },
        "id": "RRGuK7zKrKdo",
        "outputId": "9b6b413b-cdfb-4b40-bd6e-097728689949"
      },
      "source": [
        "print(\"Diguite tres numeros\")\n",
        "num1 =  int(input(\"Diguite o primeiro numero:\"))\n",
        "num2 =  int(input(\"Diguite o segundo numero:\"))\n",
        "num3 =  int(input(\"Diguite o terceiro numero:\"))\n",
        "\n",
        "if num1 >= num2:\n",
        "  if num1 > num3:\n",
        "    num_maior= num11\n",
        "  elif num3 > num2:\n",
        "    num_maior= num3\n",
        "  else:\n",
        "    num_maior= num2\n",
        "else:\n",
        "  num_maior= num3\n",
        "\n",
        "if num1 <= num2:\n",
        "  if num1 < num3:\n",
        "    num_menor = num1\n",
        "  elif num3 < num2:\n",
        "    num_menor = num3\n",
        "  else:\n",
        "    num_menor = num2\n",
        "else:\n",
        "  num_menor = num3\n",
        "\n",
        "print(f\"O numero {num_menor} é o menor\")\n",
        "print(f\"O numero {num_maior} é o maior\")\n"
      ],
      "execution_count": 15,
      "outputs": [
        {
          "output_type": "stream",
          "text": [
            "Diguite tres numeros\n",
            "Diguite o primeiro numero:1\n",
            "Diguite o segundo numero:1\n",
            "Diguite o terceiro numero:3\n",
            "O numero 1 é o menor\n",
            "O numero 3 é o maior\n"
          ],
          "name": "stdout"
        }
      ]
    }
  ]
}