{
  "nbformat": 4,
  "nbformat_minor": 0,
  "metadata": {
    "colab": {
      "name": "Exercicios_desafios_condicionais_aula5.ipynb",
      "provenance": [],
      "collapsed_sections": [],
      "include_colab_link": true
    },
    "kernelspec": {
      "name": "python3",
      "display_name": "Python 3"
    },
    "language_info": {
      "name": "python"
    }
  },
  "cells": [
    {
      "cell_type": "markdown",
      "metadata": {
        "id": "view-in-github",
        "colab_type": "text"
      },
      "source": [
        "<a href=\"https://colab.research.google.com/github/LeoAcosta07/Blue_T2B_Mod1/blob/main/Exercicios_desafios_condicionais_aula5.ipynb\" target=\"_parent\"><img src=\"https://colab.research.google.com/assets/colab-badge.svg\" alt=\"Open In Colab\"/></a>"
      ]
    },
    {
      "cell_type": "markdown",
      "metadata": {
        "id": "tfU9qd8OOh3Y"
      },
      "source": [
        "Exercício 1: Faça um Programa que leia três números inteiros, em seguida mostre o maior e o menor deles.\n"
      ]
    },
    {
      "cell_type": "code",
      "metadata": {
        "id": "M6y0oSsIJoCE",
        "colab": {
          "base_uri": "https://localhost:8080/"
        },
        "outputId": "7741f9c6-8325-4298-82ab-1c6459f9b7cc"
      },
      "source": [
        "print(\"Diguite tres numeros\")\n",
        "num1 =  int(input(\"Diguite o primeiro numero:\"))\n",
        "num2 =  int(input(\"Diguite o segundo numero:\"))\n",
        "num3 =  int(input(\"Diguite o terceiro numero:\"))\n",
        "\n",
        "if num1 >= num2:\n",
        "  if num1 >= num3:\n",
        "    num_maior= num1\n",
        "  elif num3 > num2:\n",
        "    num_maior= num3\n",
        "  else:\n",
        "    num_maior= num2\n",
        "elif num2 > num3:\n",
        "    num_maior = num2\n",
        "else:\n",
        "  num_maior= num3\n",
        "\n",
        "if num1 <= num2:\n",
        "  if num1 <= num3:\n",
        "    num_menor = num1\n",
        "  elif num3 < num2:\n",
        "    num_menor = num3\n",
        "  else:\n",
        "    num_menor = num2\n",
        "elif num2 < num3:\n",
        "    num_menor = num2\n",
        "else:\n",
        "  num_menor = num3\n",
        "\n",
        "print(f\"O numero {num_menor} é o menor\")\n",
        "print(f\"O numero {num_maior} é o maior\")\n"
      ],
      "execution_count": null,
      "outputs": [
        {
          "output_type": "stream",
          "text": [
            "Diguite tres numeros\n",
            "Diguite o primeiro numero:10\n",
            "Diguite o segundo numero:85\n",
            "Diguite o terceiro numero:25\n",
            "O numero 10 é o menor\n",
            "O numero 85 é o maior\n"
          ],
          "name": "stdout"
        }
      ]
    },
    {
      "cell_type": "markdown",
      "metadata": {
        "id": "bSsK3qSMOevp"
      },
      "source": [
        "**Exercício 2 - Faça um programa que peça dois números e imprima o maior deles.**"
      ]
    },
    {
      "cell_type": "code",
      "metadata": {
        "id": "0va9UlagJohH",
        "colab": {
          "base_uri": "https://localhost:8080/"
        },
        "outputId": "5c9af292-2809-4c79-d0e1-30d8740c586e"
      },
      "source": [
        "print(\"Diguite dois numeros\")\n",
        "num1 =  int(input(\"Diguite o primeiro numero:\"))\n",
        "num2 =  int(input(\"Diguite o segundo numero:\"))\n",
        "if num1 > num2:\n",
        "    num_maior= num1\n",
        "elif num1 == num2:\n",
        "    num_maior= 0\n",
        "else:\n",
        "  num_maior= num2\n",
        "\n",
        "if num_maior==0:\n",
        "  print(\"Os dois numeros sao iguais\")\n",
        "else:\n",
        "  print(f\"O numero {num_maior} é o maior\")"
      ],
      "execution_count": null,
      "outputs": [
        {
          "output_type": "stream",
          "text": [
            "Diguite dois numeros\n",
            "Diguite o primeiro numero:75\n",
            "Diguite o segundo numero:75\n",
            "Os dois numeros sao iguais\n"
          ],
          "name": "stdout"
        }
      ]
    },
    {
      "cell_type": "markdown",
      "metadata": {
        "id": "7LgzHMqUOmX_"
      },
      "source": [
        "Exercício 3 - Faça um script que peça um valor e mostre na tela se o valor é positivo ou negativo."
      ]
    },
    {
      "cell_type": "code",
      "metadata": {
        "id": "pM9hru6wJpN5",
        "colab": {
          "base_uri": "https://localhost:8080/"
        },
        "outputId": "a83914d2-3e19-42c1-f4d8-01fded8a566c"
      },
      "source": [
        "num1 = float(input(\"Diguite um numero:\"))\n",
        "if num1 >= 0:\n",
        "  print(f\"O numero {num_maior} é positivo\")\n",
        "else:\n",
        "  print(f\"O numero {num_maior} é negativo\")"
      ],
      "execution_count": null,
      "outputs": [
        {
          "output_type": "stream",
          "text": [
            "Diguite um numero:-0.0000001\n",
            "O numero 0 é negativo\n"
          ],
          "name": "stdout"
        }
      ]
    },
    {
      "cell_type": "markdown",
      "metadata": {
        "id": "nK4P9Qy1OnbL"
      },
      "source": [
        "Exercício 4 - Crie um programa que verifique se uma letra digitada é \"F\" ou \"M\". Conforme a letra escrever: F - Feminino, M - Masculino, Sexo Inválido."
      ]
    },
    {
      "cell_type": "code",
      "metadata": {
        "id": "g-9Tll_kJphc",
        "colab": {
          "base_uri": "https://localhost:8080/"
        },
        "outputId": "f70cdee8-7393-4327-a18f-f7999300898e"
      },
      "source": [
        "\n",
        "sexo = input(\"Diguite seu sexo (F ou M):\")\n",
        "print(\"\\n\")\n",
        "if sexo.upper() == \"M\":\n",
        "  print(\"Masculino\")\n",
        "elif sexo.upper() == \"F\":\n",
        "  print(\"Femenino\")\n",
        "else:\n",
        "  print(\"Sexo inválido\")\n"
      ],
      "execution_count": null,
      "outputs": [
        {
          "output_type": "stream",
          "text": [
            "Diguite seu sexo (F ou M):f\n",
            "\n",
            "\n",
            "Femenino\n"
          ],
          "name": "stdout"
        }
      ]
    },
    {
      "cell_type": "markdown",
      "metadata": {
        "id": "SfNlQyyKOp1S"
      },
      "source": [
        "Exercício 5 - Crie um programa em Python que peça a nota do aluno, que deve ser um float entre 0.00 e 10.0\n",
        "    • Se a nota for menor que 6.0, deve exibir a nota F.\n",
        "    • Se a nota for de 6.0 até 7.0, deve exibir a nota D.\n",
        "    • Se a nota for entre 7.0 e 8.0, deve exibir a nota C.\n",
        "    • Se a nota for entre 8.0 e 9.0, deve exibir a nota B.\n",
        "    • Por fim, se for entre 9.0 e 10.0, deve exibir um belo de um A."
      ]
    },
    {
      "cell_type": "code",
      "metadata": {
        "id": "caUKaqZYJp-K",
        "colab": {
          "base_uri": "https://localhost:8080/"
        },
        "outputId": "f86d1768-dff1-49d6-d3ab-900be6a53ea5"
      },
      "source": [
        "nota = float(input(\"Digite a nota do aluno:\"))\n",
        "print(\"\\n\")\n",
        "if nota < 6.0:\n",
        "  letra = \"F\"\n",
        "elif nota >= 6.0 and nota < 7.0:\n",
        "  letra = \"D\"\n",
        "elif nota >= 7.0 and nota < 8.0:\n",
        "  letra = \"C\"\n",
        "elif nota >= 8.0 and nota < 9.0:\n",
        "  letra = \"B\"\n",
        "else:\n",
        "  letra = \"A\"\n",
        "print(f'A nota do aluno é {letra}!!')"
      ],
      "execution_count": null,
      "outputs": [
        {
          "output_type": "stream",
          "text": [
            "Digite a nota do aluno:0.2\n",
            "\n",
            "\n",
            "A nota do aluno é F!!\n"
          ],
          "name": "stdout"
        }
      ]
    },
    {
      "cell_type": "markdown",
      "metadata": {
        "id": "S0tjDFr2OuPW"
      },
      "source": [
        "Exercício 6 - Faça um Programa que verifique se uma letra digitada é vogal ou consoante."
      ]
    },
    {
      "cell_type": "code",
      "metadata": {
        "id": "mh6l9n1_JqUa",
        "colab": {
          "base_uri": "https://localhost:8080/"
        },
        "outputId": "1e45b85b-757c-4a15-9304-e93c7fa2127e"
      },
      "source": [
        "letra = input(\"Digite uma letra: \")\n",
        "print(\"\\n\")\n",
        "if letra.upper() == \"A\" or letra.upper() == \"E\" or letra.upper() == \"I\" or letra.upper() == \"O\" or letra.upper() == \"U\":\n",
        "  print(\"A letra digitada é uma vogal\")\n",
        "else:\n",
        "  print(\"A letra digitada é uma consoante\")"
      ],
      "execution_count": null,
      "outputs": [
        {
          "output_type": "stream",
          "text": [
            "Digite uma letra: s\n",
            "\n",
            "\n",
            "A letra digitada é uma consoante\n"
          ],
          "name": "stdout"
        }
      ]
    },
    {
      "cell_type": "markdown",
      "metadata": {
        "id": "-SYJhM3gOuuI"
      },
      "source": [
        "# **PROJETO 1**\n",
        "Resultado da primeira/segunda aula em Python:\n",
        "    • Escreva um programa que receba uma string digitada pelo usuário;\n",
        "    • Caso a string seja \"medieval\", exiba no console \"espada\";\n",
        "    • Caso contrário, se a string for \"futurista\", exiba no console \"sabre de luz\";\n",
        "    • Caso contrário, exiba no console \"Tente novamente\""
      ]
    },
    {
      "cell_type": "markdown",
      "metadata": {
        "id": "lcu0VZ8zPuKd"
      },
      "source": [
        "# **Continuação do PROJETO 1**\n",
        "    • Escreva um programa que receba um ataque de espada ou sabre digitada pelo usuário;\n",
        "    • Caso o ataque seja \"espada\", exiba no console \"VOCÊ AINDA NÃO MATOU O CHEFÃO\";\n",
        "    • Caso contrário, se o ataque for \"sabre\", exiba no console \"VOCÊ DERROTOU O CHEFÃO COM O SABRE DE LUZ\";\n",
        "    • Caso contrário, exiba no console \"ATAQUE NOVAMENTE\""
      ]
    },
    {
      "cell_type": "code",
      "metadata": {
        "id": "jupTvz8nJsGy",
        "colab": {
          "base_uri": "https://localhost:8080/"
        },
        "outputId": "d16a7fc7-48a0-42eb-f4af-39a3a31c4b9f"
      },
      "source": [
        "opc = input(\"Escolha um tipo de ataque, medieval ou futurista: \")\n",
        "print(\"\\n\")\n",
        "if opc.upper() == \"MEDIEVAL\":\n",
        "    print(\"Voce escolheu atacar com uma Espada\")\n",
        "    ataq = \"espada\"\n",
        "    c=1\n",
        "elif opc.upper() == \"FUTURISTA\":\n",
        "    print(\"Voce escolheu atacar com o sabre de luz\")\n",
        "    ataque = \"sabre\"\n",
        "    c=1\n",
        "else:\n",
        "    print(\"Opção inválida, tente novamente\")\n",
        "    c=0\n",
        "if c==1:\n",
        "  print(\"\\n\")\n",
        "  if ataq == \"espada\":\n",
        "    print(\"VOCÊ AINDA NÃO MATOU O CHEFÃO\")\n",
        "  else:\n",
        "    print(\"VOCÊ DERROTOU O CHEFÃO COM O SABRE DE LUZ\")\n",
        "else:\n",
        "  print(\"Escolha outro ataque\")"
      ],
      "execution_count": 4,
      "outputs": [
        {
          "output_type": "stream",
          "text": [
            "Escolha um tipo de ataque, medieval ou futurista: Medieval\n",
            "\n",
            "\n",
            "Voce escolheu atacar com uma Espada\n",
            "\n",
            "\n",
            "VOCÊ AINDA NÃO MATOU O CHEFÃO\n"
          ],
          "name": "stdout"
        }
      ]
    },
    {
      "cell_type": "markdown",
      "metadata": {
        "id": "2qAqfZPsRpFr"
      },
      "source": [
        "# **DESAFIO**\n",
        "As empresas @.com resolveram dar um aumento de salário aos seus colaboradores e lhe contrataram para desenvolver o programa que calculará os reajustes.\n",
        "\n",
        "Faça um programa que recebe o salário de um colaborador e o reajuste segundo o seguinte critério, baseado no salário atual:\n",
        "    • salários até R$ 280,00 (incluindo) : aumento de 20%\n",
        "    • salários entre R$ 280,00 e R$ 700,00 : aumento de 15%\n",
        "    • salários entre R$ 700,00 e R$ 1500,00 : aumento de 10%\n",
        "    • salários de R$ 1500,00 em diante : aumento de 5%\n",
        "Após o aumento ser realizado, informe na tela:\n",
        "    • o salário antes do reajuste;\n",
        "    • o percentual de aumento aplicado;\n",
        "    • o valor do aumento;\n",
        "    • o novo salário, após o aumento.\""
      ]
    },
    {
      "cell_type": "code",
      "metadata": {
        "id": "ajbIH8WHJsv-",
        "colab": {
          "base_uri": "https://localhost:8080/"
        },
        "outputId": "f41a60ce-3558-4961-8cd8-b5bfa25f3fae"
      },
      "source": [
        "print(\"Bemvindo a Calculadora de reajuste de salario \\n\")\n",
        "salario = float(input(\"Ingrese o salário do colaborador (R$):\"))\n",
        "print(\"\\n\")\n",
        "if salario <= 280.00:\n",
        "  porcentual = '20%'\n",
        "  ajuste = salario * 0.2\n",
        "  salario_nov = salario + ajuste\n",
        "elif salario >= 280.00 and salario < 700.00:\n",
        "  porcentual = '15%'\n",
        "  ajuste = salario * 0.15\n",
        "  salario_nov = salario + ajuste\n",
        "elif salario >= 700.00 and salario < 1500.00:\n",
        "  porcentual = '10%'\n",
        "  ajuste = salario * 0.1\n",
        "  salario_nov = salario + ajuste\n",
        "else:\n",
        "  porcentual = '5%'\n",
        "  ajuste = salario * 0.01\n",
        "  salario_nov = salario + ajuste\n",
        "\n",
        "print(f'- O salario atual é de: R$ {salario:.2f}')\n",
        "print(f'- O porcentual de reajuste aplicado é de {porcentual}')\n",
        "print(f'- O valor do aumente é de: R$ {ajuste:.2f}')\n",
        "print(f'- O novo salario passara a ser de: R$ {salario_nov:.2f}')"
      ],
      "execution_count": 16,
      "outputs": [
        {
          "output_type": "stream",
          "text": [
            "Bemvindo a Calculadora de reajuste de salario \n",
            "\n",
            "Ingrese o salário do colaborador (R$):851.36\n",
            "\n",
            "\n",
            "- O salario atual é de: R$ 851.36\n",
            "- O porcentual de reajuste aplicado é de 10%\n",
            "- O valor do aumente é de: R$ 85.14\n",
            "- O novo salario passara a ser de: R$ 936.50\n"
          ],
          "name": "stdout"
        }
      ]
    },
    {
      "cell_type": "markdown",
      "metadata": {
        "id": "W0Z9cw8-K_dZ"
      },
      "source": [
        "# **DESAFIO**\n",
        "Faça um Programa para um caixa eletrônico. O programa deverá perguntar ao usuário a valor do saque e depois informar quantas notas de cada valor serão fornecidas. As notas disponíveis serão as de 1, 5, 10, 50 e 100 reais. O valor mínimo é de 10 reais e o máximo de 600 reais. O programa não deve se preocupar com a quantidade de notas existentes na máquina.\n",
        "    • Exemplo 1: Para sacar a quantia de 256 reais, o programa fornece duas notas de 100, uma nota de 50, uma nota de 5 e uma nota de 1;\n",
        "    • Exemplo 2: Para sacar a quantia de 399 reais, o programa fornece três notas de 100, uma nota de 50, quatro notas de 10, uma nota de 5 e quatro notas de 1."
      ]
    },
    {
      "cell_type": "code",
      "metadata": {
        "id": "47vmEVi1JtSw",
        "colab": {
          "base_uri": "https://localhost:8080/"
        },
        "outputId": "49ec7360-b51d-486d-dfe0-87058b44d7ea"
      },
      "source": [
        "import math\n",
        "print(\"Bemvindo ao Caixa Eletronico\\n\")\n",
        "saque = int(input(\"Digite o valor do saque(Minino R$10 e Máximo R$ 600):\"))\n",
        "\n",
        "resto = saque / 100\n",
        "n_100 = math.floor(resto)\n",
        "saque = saque - (n_100*100)\n",
        "\n",
        "resto = saque / 50\n",
        "n_50 = math.floor(resto)\n",
        "saque = saque - (n_50*50)\n",
        "\n",
        "\n",
        "resto = saque / 10\n",
        "n_10 = math.floor(resto)\n",
        "saque = saque - (n_10*10)\n",
        "\n",
        "resto = saque / 5\n",
        "n_5 = math.floor(resto)\n",
        "saque = saque - (n_5*5)\n",
        "\n",
        "n_1 = int(saque)\n",
        "    \n",
        "print('Notas R$100,00 = ',n_100)\n",
        "print('Notas R$ 50,00 = ',n_50)\n",
        "print('Notas R$ 10,00 = ',n_10)\n",
        "print('Notas R$  5,00 = ',n_5)\n",
        "print('Notas R$  1,00 = ',n_1)"
      ],
      "execution_count": 25,
      "outputs": [
        {
          "output_type": "stream",
          "text": [
            "Bemvindo ao Caixa Eletronico\n",
            "\n",
            "Digite o valor do saque(Minino R$10 e Máximo R$ 600):523\n",
            "Notas R$100,00 =  5\n",
            "Notas R$ 50,00 =  0\n",
            "Notas R$ 10,00 =  2\n",
            "Notas R$  5,00 =  0\n",
            "Notas R$  1,00 =  3\n"
          ],
          "name": "stdout"
        }
      ]
    }
  ]
}